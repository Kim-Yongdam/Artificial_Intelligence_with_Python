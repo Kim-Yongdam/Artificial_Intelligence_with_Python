{
 "cells": [
  {
   "cell_type": "code",
   "execution_count": null,
   "metadata": {
    "collapsed": true
   },
   "outputs": [],
   "source": [
    "from simpleai.search import CspProblem, backtrack, min_conflicts, MOST_CONSTRAINED_VARIABLE, HIGHEST_DEGREE_VARIABLE, LEAST_CONSTRAINING_VALUE"
   ]
  },
  {
   "cell_type": "code",
   "execution_count": null,
   "metadata": {},
   "outputs": [],
   "source": [
    "def constraint_unique(variables, values):\n",
    "    return len(values) == len(set(values))\n",
    "\n",
    "def constraint_bigger(variables, values):\n",
    "    return values[0] > values[1]\n",
    "\n",
    "def constraint_odd_even(variables, values):\n",
    "    if values[0] % 2 == 0:\n",
    "        return values[1] % 2 == 1\n",
    "    else :\n",
    "        return values[1] % 2 == 0"
   ]
  },
  {
   "cell_type": "code",
   "execution_count": null,
   "metadata": {},
   "outputs": [],
   "source": [
    "if __name__=='__main__':\n",
    "    variables = {'John', 'Anna', 'Tom', 'Patricia'}\n",
    "    \n",
    "    domains = {\n",
    "        'John' : [1, 2, 3],\n",
    "        'Anna' : [1, 3],\n",
    "        'Tom' : [2, 4],\n",
    "        'Patricia' : [2, 3, 4],\n",
    "    }\n",
    "    \n",
    "    constraints = [\n",
    "        (('John', 'Anna', 'Tom'), constraint_unique),\n",
    "        (('Tom', 'Anna'), constraint_bigger), \n",
    "        (('John', 'Patricia'), constraint_odd_even),\n",
    "    ]\n",
    "    \n",
    "    problem = CspProblem(variables, domains, constraints)"
   ]
  },
  {
   "cell_type": "code",
   "execution_count": null,
   "metadata": {},
   "outputs": [],
   "source": [
    "    print(\"\\nSolutions : \\n\\nNormal : \", backtrack(problem))"
   ]
  },
  {
   "cell_type": "code",
   "execution_count": null,
   "metadata": {},
   "outputs": [],
   "source": [
    "    print(\"\\nMost constrained variable : \", backtrack(problem, variable_heuristic = MOST_CONSTRAINED_VARIABLE))\n",
    "    print(\"\\nHighest degree variable : \", backtrack(problem, variable_heuristic = HIGHEST_DEGREE_VARIABLE))\n",
    "    print(\"\\nLeast constraining value : \", backtrack(problem, variable_heuristic = LEAST_CONSTRAINING_VALUE))"
   ]
  },
  {
   "cell_type": "code",
   "execution_count": null,
   "metadata": {},
   "outputs": [],
   "source": [
    "    print(\"\\nMost constrained variable and least constraining value : \", backtrack(problem, variable_heuristic = MOST_CONSTRAINED_VARIABLE, value_heuristic=LEAST_CONSTRAINING_VALUE))\n",
    "    print(\"\\nHighest degree and least constraining value : \", backtrack(problem, variable_heuristic = HIGHEST_DEGREE_VARIABLE, value_heuristic=LEAST_CONSTRAINING_VALUE))"
   ]
  },
  {
   "cell_type": "code",
   "execution_count": null,
   "metadata": {},
   "outputs": [],
   "source": [
    "    print(\"\\nMinimum conflicts : \", min_conflicts(problem))"
   ]
  }
 ],
 "metadata": {
  "kernelspec": {
   "display_name": "Python 3",
   "language": "python",
   "name": "python3"
  },
  "language_info": {
   "codemirror_mode": {
    "name": "ipython",
    "version": 3
   },
   "file_extension": ".py",
   "mimetype": "text/x-python",
   "name": "python",
   "nbconvert_exporter": "python",
   "pygments_lexer": "ipython3",
   "version": "3.6.3"
  }
 },
 "nbformat": 4,
 "nbformat_minor": 2
}
