{
 "cells": [
  {
   "cell_type": "markdown",
   "metadata": {},
   "source": [
    "# Chapter 07. Heuristic Search Techniques\n",
    "* 그리디 탐색 비법으로 문자열 생성하기"
   ]
  },
  {
   "cell_type": "code",
   "execution_count": null,
   "metadata": {
    "collapsed": true
   },
   "outputs": [],
   "source": [
    "import argparse\n",
    "import simpleai.search as ss"
   ]
  },
  {
   "cell_type": "code",
   "execution_count": null,
   "metadata": {
    "collapsed": true
   },
   "outputs": [],
   "source": [
    "def build_arg_parser():\n",
    "    parser = argparse.ArgumentParser(description='Creates the input string using the greedy algorithm')\n",
    "    parser.add_argument('--input-string', dest=\"input_string\", required=True, help=\"Input string\")\n",
    "    parser.add_argument(\"--initial-state\", dest=\"initial_state\", required=False, default='', help=\"Starting point for the search\")\n",
    "    return parser"
   ]
  },
  {
   "cell_type": "code",
   "execution_count": null,
   "metadata": {
    "collapsed": true
   },
   "outputs": [],
   "source": [
    "class CustomProblem(ss.SearchProblem):\n",
    "    def set_target(self, target_string):\n",
    "        self.target_string = target_string\n",
    "        \n",
    "    def actions(self, cur_state):\n",
    "        if len(cur_state) < len(self.target_string):\n",
    "            alphabets = 'abcdefghijklmnopqrstuvwxyz'\n",
    "            return list(alphabets + ' ' + alphabets.upper())\n",
    "        else :\n",
    "            return []\n",
    "        \n",
    "    def result(self, cur_state, action):\n",
    "        return cur_state + action\n",
    "    \n",
    "    def is_goal(self, cur_state):\n",
    "        return cur_state == self.target_string\n",
    "    \n",
    "    def heuristic(self, cur_state):\n",
    "        dist = sum([1 if cur_state[i] != self.target_string[i] else 0 for i in range(len(cur_state))])\n",
    "        diff = len(self.target_string) - len(cur_state)\n",
    "        \n",
    "        return dist + diff"
   ]
  },
  {
   "cell_type": "markdown",
   "metadata": {},
   "source": [
    "https://github.com/simpleai-team/simpleai/blob/master/simpleai/search/models.py"
   ]
  },
  {
   "cell_type": "code",
   "execution_count": null,
   "metadata": {},
   "outputs": [],
   "source": [
    "if __name__=='__main__':\n",
    "    #f_open = open(\"input.txt\", \"r\")\n",
    "    #f_open = open(\"input2.txt\", \"r\")\n",
    "    #args = build_arg_parser().parse_args()\n",
    "    input_string = \"Artificial Intelligence\"\n",
    "    #input_string2 = \"Artificial Intellgence with Python\"\n",
    "    initial_state = \"\"\n",
    "    #initial_state2 = \"Artificial Inte\"\n",
    "    problem = CustomProblem()\n",
    "    problem.set_target(input_string) #args.input_string)\n",
    "    problem.initial_state = initial_state #args.initial_state\n",
    "    #problem.initial_state = initial_state2\n",
    "    \n",
    "    output = ss.greedy(problem)\n",
    "    \n",
    "    print(\"\\nTarget string:\", input_string) #args.input_string)\n",
    "    print(\"\\nPath to the solution:\")\n",
    "    \n",
    "    for item in output.path():\n",
    "        print(item)"
   ]
  },
  {
   "cell_type": "markdown",
   "metadata": {},
   "source": [
    "https://github.com/simpleai-team/simpleai/blob/master/simpleai/search/traditional.py"
   ]
  }
 ],
 "metadata": {
  "kernelspec": {
   "display_name": "Python 3",
   "language": "python",
   "name": "python3"
  },
  "language_info": {
   "codemirror_mode": {
    "name": "ipython",
    "version": 3
   },
   "file_extension": ".py",
   "mimetype": "text/x-python",
   "name": "python",
   "nbconvert_exporter": "python",
   "pygments_lexer": "ipython3",
   "version": "3.6.3"
  }
 },
 "nbformat": 4,
 "nbformat_minor": 2
}
