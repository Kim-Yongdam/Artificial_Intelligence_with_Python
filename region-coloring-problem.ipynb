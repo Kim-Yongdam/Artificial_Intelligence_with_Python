{
 "cells": [
  {
   "cell_type": "code",
   "execution_count": null,
   "metadata": {
    "collapsed": true
   },
   "outputs": [],
   "source": [
    "from simpleai.search import CspProblem, backtrack"
   ]
  },
  {
   "cell_type": "code",
   "execution_count": null,
   "metadata": {
    "collapsed": true
   },
   "outputs": [],
   "source": [
    "def constraint_func(names, values):\n",
    "    return values[0] != values[1]"
   ]
  },
  {
   "cell_type": "code",
   "execution_count": null,
   "metadata": {},
   "outputs": [],
   "source": [
    "if __name__=='__main__':\n",
    "    names = ('Mark', 'Julia', 'Steve', 'Amanda', 'Brian', 'Joanne', 'Derek', 'Allen', 'Michelle', 'Kelly')\n",
    "    \n",
    "    colors = dict((name, ['red', 'green', 'blue', 'gray']) for name in names)\n",
    "    \n",
    "    constraints = [\n",
    "        (('Mark', 'Julia') , constraint_func),\n",
    "        (('Mark', 'Steve') , constraint_func),\n",
    "        (('Julia', 'Steve') , constraint_func),\n",
    "        (('Julia', 'Amanda') , constraint_func),\n",
    "        (('Julia', 'Derek') , constraint_func),\n",
    "        (('Julia', 'Brian') , constraint_func),\n",
    "        (('Steve', 'Amanda') , constraint_func),\n",
    "        (('Steve', 'Allen') , constraint_func),\n",
    "        (('Steve', 'Michelle') , constraint_func),\n",
    "        (('Amanda', 'Michelle') , constraint_func),\n",
    "        (('Amanda', 'Joanne') , constraint_func),\n",
    "        (('Amanda', 'Derek') , constraint_func),\n",
    "        (('Brian', 'Derek') , constraint_func),\n",
    "        (('Brian', 'Kelly') , constraint_func),\n",
    "        (('Joanne', 'Michelle') , constraint_func),\n",
    "        (('Joanne', 'Amanda') , constraint_func),\n",
    "        (('Joanne', 'Derek') , constraint_func),\n",
    "        (('Joanne', 'Kelly') , constraint_func),\n",
    "        (('Derek', 'Kelly') , constraint_func),\n",
    "    ]\n",
    "    \n",
    "    problem = CspProblem(names, colors, constraints)\n",
    "    output = backtrack(problem)"
   ]
  },
  {
   "cell_type": "code",
   "execution_count": null,
   "metadata": {},
   "outputs": [],
   "source": [
    "    print(\"\\nColor mapping: \\n\")\n",
    "    for k, v in output.items():\n",
    "        print(k, '==>', v)"
   ]
  }
 ],
 "metadata": {
  "kernelspec": {
   "display_name": "Python 3",
   "language": "python",
   "name": "python3"
  },
  "language_info": {
   "codemirror_mode": {
    "name": "ipython",
    "version": 3
   },
   "file_extension": ".py",
   "mimetype": "text/x-python",
   "name": "python",
   "nbconvert_exporter": "python",
   "pygments_lexer": "ipython3",
   "version": "3.6.3"
  }
 },
 "nbformat": 4,
 "nbformat_minor": 2
}
