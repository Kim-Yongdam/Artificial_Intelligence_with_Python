{
 "cells": [
  {
   "cell_type": "code",
   "execution_count": null,
   "metadata": {
    "collapsed": true
   },
   "outputs": [],
   "source": [
    "from simpleai.search import astar, SearchProblem"
   ]
  },
  {
   "cell_type": "markdown",
   "metadata": {},
   "source": [
    "8-Puzzle : http://mypuzzle.org/sliding"
   ]
  },
  {
   "cell_type": "code",
   "execution_count": null,
   "metadata": {
    "collapsed": true
   },
   "outputs": [],
   "source": [
    "class PuzzleSolver(SearchProblem):\n",
    "    \n",
    "    def actions(self, cur_state):\n",
    "        rows = string_to_list(cur_state)\n",
    "        row_empty, col_empty = get_location(rows, 'e')\n",
    "        \n",
    "        actions = []\n",
    "        if row_empty > 0:\n",
    "            actions.append(rows[row_empty - 1][col_empty])\n",
    "        if row_empty < 2:\n",
    "            actions.append(rows[row_empty + 1][col_empty])\n",
    "        if col_empty > 0:\n",
    "            actions.append(rows[row_empty][col_empty - 1])\n",
    "        if col_empty < 2:\n",
    "            actions.append(rows[row_empty][col_empty + 1])\n",
    "            \n",
    "        return actions\n",
    "    \n",
    "    def result(self, state, action):\n",
    "        rows = string_to_list(state)\n",
    "        row_empty, col_empty = get_location(rows, 'e')\n",
    "        row_new, col_new = get_location(rows, action)\n",
    "        \n",
    "        rows[row_empty][col_empty], rows[row_new][col_new] = rows[row_new][col_new], rows[row_empty][col_empty]\n",
    "        \n",
    "        return list_to_string(rows)\n",
    "    \n",
    "    def is_goal(self, state):\n",
    "        return state == GOAL\n",
    "    \n",
    "    def heuristic(self, state):\n",
    "        rows = string_to_list(state)\n",
    "        \n",
    "        distance = 0\n",
    "        \n",
    "        for number in '12345678e':\n",
    "            row_new, col_new = get_location(rows, number)\n",
    "            row_new_goal, col_new_goal = goal_positions[number]\n",
    "\n",
    "            distance += abs(row_new - row_new_goal) + abs(col_new - col_new_goal)\n",
    "\n",
    "        return distance"
   ]
  },
  {
   "cell_type": "code",
   "execution_count": null,
   "metadata": {},
   "outputs": [],
   "source": [
    "def list_to_string(input_list):\n",
    "    return '\\n'.join(['-'.join(x) for x in input_list])\n",
    "\n",
    "def string_to_list(input_string):\n",
    "    return [x.split('-') for x in input_string.split('\\n')]\n",
    "\n",
    "def get_location(rows, input_element):\n",
    "    for i, row in enumerate(rows):\n",
    "        for j, item in enumerate(row):\n",
    "            if item == input_element:\n",
    "                return i, j\n",
    "\n",
    "GOAL = '''1-2-3\n",
    "4-5-6\n",
    "7-8-e'''\n",
    "\n",
    "INITIAL = '''1-e-2\n",
    "6-3-4\n",
    "7-5-8'''\n",
    "\n",
    "goal_positions = {}\n",
    "rows_goal = string_to_list(GOAL)\n",
    "for number in '12345678e':\n",
    "    goal_positions[number] = get_location(rows_goal, number)\n",
    "\n",
    "result = astar(PuzzleSolver(INITIAL))\n",
    "\n",
    "for i, (action, state) in enumerate(result.path()):\n",
    "    print()\n",
    "    if action == None:\n",
    "        print(\"Initial configuration\")\n",
    "    elif i == len(result.path()) - 1:\n",
    "        print(\"After moving\", action, 'into the empty space. Goal achieved!')\n",
    "        \n",
    "    else :\n",
    "        print(\"After moving\", action, 'into the empty sapce')\n",
    "    \n",
    "    print(state)"
   ]
  }
 ],
 "metadata": {
  "kernelspec": {
   "display_name": "Python 3",
   "language": "python",
   "name": "python3"
  },
  "language_info": {
   "codemirror_mode": {
    "name": "ipython",
    "version": 3
   },
   "file_extension": ".py",
   "mimetype": "text/x-python",
   "name": "python",
   "nbconvert_exporter": "python",
   "pygments_lexer": "ipython3",
   "version": "3.6.3"
  }
 },
 "nbformat": 4,
 "nbformat_minor": 2
}
